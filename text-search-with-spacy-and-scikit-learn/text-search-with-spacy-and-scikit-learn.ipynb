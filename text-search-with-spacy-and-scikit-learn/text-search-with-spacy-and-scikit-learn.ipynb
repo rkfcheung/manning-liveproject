{
 "cells": [
  {
   "cell_type": "code",
   "execution_count": 1,
   "metadata": {},
   "outputs": [],
   "source": [
    "# Load all relevant Python libraries and a SpaCy language model.\n",
    "import json\n",
    "import spacy"
   ]
  },
  {
   "cell_type": "code",
   "execution_count": 2,
   "metadata": {},
   "outputs": [],
   "source": [
    "nlp = spacy.load(\"en_core_web_sm\")"
   ]
  },
  {
   "cell_type": "code",
   "execution_count": 3,
   "metadata": {},
   "outputs": [
    {
     "data": {
      "text/plain": [
       "dict_keys(['title', 'text', 'url'])"
      ]
     },
     "execution_count": 3,
     "metadata": {},
     "output_type": "execute_result"
    }
   ],
   "source": [
    "# Open the provided JSON file. It contains a list of dictionaries with summaries from Wikipedia articles, \n",
    "# where each dictionary has three key-value pairs. The keys title, text and url correspond to:\n",
    "# \n",
    "# - Title of a Wikipedia article the text is taken from.\n",
    "# - Wikipedia article text (in this dataset we included only the summary).\n",
    "# - Link to the Wikipedia article.\n",
    "wiki_data = []\n",
    "with open(\"./data.json\") as f:\n",
    "    wiki_data = json.load(f)\n",
    "wiki_data[0].keys()"
   ]
  },
  {
   "cell_type": "code",
   "execution_count": 4,
   "metadata": {},
   "outputs": [
    {
     "name": "stdout",
     "output_type": "stream",
     "text": [
      "1 a True False det\n",
      "8 pandemic False False nsubj\n",
      "1 ( False True punct\n",
      "4 from True False prep\n",
      "5 greek False False amod\n",
      "3 πᾶν False False pobj\n",
      "1 , False True punct\n",
      "3 pan False False conj\n"
     ]
    }
   ],
   "source": [
    "sample_text = wiki_data[0][\"text\"]\n",
    "doc = nlp(sample_text.lower())\n",
    "for w in doc[:8]:\n",
    "    if len(w.lemma_.strip()) == 0:\n",
    "        continue\n",
    "    print(len(w.lemma_.strip()), w.lemma_, w.is_stop, w.is_punct, w.dep_)"
   ]
  },
  {
   "cell_type": "code",
   "execution_count": 5,
   "metadata": {},
   "outputs": [],
   "source": [
    "# Create a Python function that takes in a text string, \n",
    "# performs all operations described in the previous step and outputs a list of tokens (lemmas).\n",
    "def tokenizer(text):\n",
    "    doc = nlp(text.lower())\n",
    "    tokens = [w for w in doc if not (w.is_stop or w.is_punct or len(w.lemma_.strip()) == 0)]\n",
    "    return [t.lemma_ for t in tokens if t.dep_]"
   ]
  },
  {
   "cell_type": "code",
   "execution_count": 6,
   "metadata": {},
   "outputs": [
    {
     "name": "stdout",
     "output_type": "stream",
     "text": [
      "pandemic\n",
      "greek\n",
      "πᾶν\n",
      "pan\n",
      "δῆμος\n",
      "demos\n",
      "people\n",
      "epidemic\n"
     ]
    }
   ],
   "source": [
    "for token in tokenizer(sample_text)[:8]:\n",
    "    print(token)"
   ]
  },
  {
   "cell_type": "code",
   "execution_count": 7,
   "metadata": {},
   "outputs": [],
   "source": [
    "# Use this function to preprocess all text documents in the dataset (text field only), \n",
    "# and add the resulting lists to the dictionaries from step 1. You should end up with a list of dictionaries, each of which now has four key-value pairs:\n",
    "# \n",
    "# - title: Title of a Wikipedia article the text is taken from.\n",
    "# - text: Wikipedia article text (in this dataset we included only the summary).\n",
    "# - tokenized_text: Tokenized Wikipedia article text.\n",
    "# - url: Link to the Wikipedia article.\n",
    "for i, doc in enumerate(wiki_data):\n",
    "    doc[\"tokenized_text\"] = tokenizer(doc[\"text\"])\n",
    "    wiki_data[i] = doc"
   ]
  },
  {
   "cell_type": "code",
   "execution_count": 8,
   "metadata": {},
   "outputs": [
    {
     "data": {
      "text/plain": [
       "['pandemic', 'greek', 'πᾶν', 'pan', 'δῆμος', 'demos', 'people', 'epidemic']"
      ]
     },
     "execution_count": 8,
     "metadata": {},
     "output_type": "execute_result"
    }
   ],
   "source": [
    "wiki_data[0][\"tokenized_text\"][:8]"
   ]
  },
  {
   "cell_type": "code",
   "execution_count": 9,
   "metadata": {},
   "outputs": [],
   "source": [
    "# Save the new list of dictionaries in a JSON format.\n",
    "with open(\"wiki_data.json\", \"w\") as f:\n",
    "    json.dump(wiki_data, f)"
   ]
  },
  {
   "cell_type": "code",
   "execution_count": null,
   "metadata": {},
   "outputs": [],
   "source": []
  }
 ],
 "metadata": {
  "kernelspec": {
   "display_name": "Python 3",
   "language": "python",
   "name": "python3"
  },
  "language_info": {
   "codemirror_mode": {
    "name": "ipython",
    "version": 3
   },
   "file_extension": ".py",
   "mimetype": "text/x-python",
   "name": "python",
   "nbconvert_exporter": "python",
   "pygments_lexer": "ipython3",
   "version": "3.7.3"
  }
 },
 "nbformat": 4,
 "nbformat_minor": 4
}
